{
 "cells": [
  {
   "cell_type": "code",
   "execution_count": 1,
   "metadata": {},
   "outputs": [
    {
     "data": {
      "text/html": [
       "<div id='scratchoutput'></div><script>scratchoutput = document.getElementById('scratchoutput');</script>"
      ],
      "text/plain": [
       "<IPython.core.display.HTML object>"
      ]
     },
     "metadata": {},
     "output_type": "display_data"
    }
   ],
   "source": [
    "#measurment\n",
    "dist=20\n",
    "\n",
    "#file\n",
    "filename=\"data/MST010 profiles C.TXT\"\n",
    "encoding=\"ansi\"\n",
    "sep=\"\\t\"\n",
    "\n",
    "#result\n",
    "interpolation_method = \"linear\" #possible: nearest,linear,cubic\n",
    "target_resolution=1\n",
    "tofile=True\n",
    "filebase=\"data/MST010_profiles_C\"\n",
    "fig_dpi=600\n",
    "basicviews=True\n",
    "\n",
    "\n",
    "#advaced\n",
    "cornerread=2 #how many points in each corner will be taken for plain estimation (e.g. 2x2 per corner if 2)\n",
    "\n",
    "\n",
    "##\n",
    "from IPython.display import display, HTML\n",
    "op = \"<div id='scratchoutput'></div><script>scratchoutput = document.getElementById('scratchoutput');</script>\"\n",
    "display(HTML(op))"
   ]
  },
  {
   "cell_type": "code",
   "execution_count": 2,
   "metadata": {},
   "outputs": [
    {
     "data": {
      "text/html": [
       "<script>\n",
       "    // AUTORUN ALL CELLS ON NOTEBOOK-LOAD!\n",
       "    require(\n",
       "        ['base/js/namespace', 'jquery'], \n",
       "        function(jupyter, $) {\n",
       "            $(jupyter.events).on(\"kernel_ready.Kernel\", function () {\n",
       "                console.log(\"Auto-running all cells-below...\");\n",
       "                jupyter.actions.call('jupyter-notebook:run-all-cells-below');\n",
       "                jupyter.actions.call('jupyter-notebook:save-notebook');\n",
       "            });\n",
       "        }\n",
       "    );\n",
       "</script>\n"
      ],
      "text/plain": [
       "<IPython.core.display.HTML object>"
      ]
     },
     "metadata": {},
     "output_type": "display_data"
    }
   ],
   "source": [
    "%%html\n",
    "<script>\n",
    "    // AUTORUN ALL CELLS ON NOTEBOOK-LOAD!\n",
    "    require(\n",
    "        ['base/js/namespace', 'jquery'], \n",
    "        function(jupyter, $) {\n",
    "            $(jupyter.events).on(\"kernel_ready.Kernel\", function () {\n",
    "                console.log(\"Auto-running all cells-below...\");\n",
    "                jupyter.actions.call('jupyter-notebook:run-all-cells-below');\n",
    "                jupyter.actions.call('jupyter-notebook:save-notebook');\n",
    "            });\n",
    "        }\n",
    "    );\n",
    "</script>"
   ]
  },
  {
   "cell_type": "code",
   "execution_count": 3,
   "metadata": {},
   "outputs": [],
   "source": [
    "import pandas as pd\n",
    "import matplotlib.pyplot as plt\n",
    "import numpy as np\n",
    "import scipy.interpolate as interpolate\n",
    "from mpl_toolkits import mplot3d\n",
    "import warnings"
   ]
  },
  {
   "cell_type": "code",
   "execution_count": 4,
   "metadata": {},
   "outputs": [
    {
     "data": {
      "text/html": [
       "<script type='text/javascript'>var para = document.createElement('h3');var node = document.createTextNode('read file...');para.appendChild(node);scratchoutput.appendChild(para);</script>"
      ],
      "text/plain": [
       "<IPython.core.display.HTML object>"
      ]
     },
     "metadata": {},
     "output_type": "display_data"
    }
   ],
   "source": [
    "def add_to_div(jsobname,text,ele):\n",
    "    js=\"<script type='text/javascript'>var para = document.createElement('\"+ele+\"');var node = document.createTextNode('\"+text+\"');para.appendChild(node);\"+jsobname+\".appendChild(para);</script>\"\n",
    "    #print(js)\n",
    "    display(HTML(js))\n",
    "\n",
    "class ScratchReader():\n",
    "    def __init__(self,autorun=True,**kwargs):\n",
    "        self.__dict__.update(kwargs)\n",
    "        if not autorun:\n",
    "            return\n",
    "        if self.file is not None:\n",
    "            self.read()\n",
    "            \n",
    "    def read(self,file=None):\n",
    "        if file is not None:\n",
    "            self.file=file\n",
    "        if self.file is not None:\n",
    "            add_to_div(self.output,\"read file...\",\"h3\")\n",
    "            self.df=pd.read_csv(self.file,encoding=encoding,sep=sep)\n",
    "        else:\n",
    "            warnings.warning(\"No file set\")\n",
    "sr = ScratchReader(file=filename,autorun=True,output='scratchoutput')"
   ]
  },
  {
   "cell_type": "code",
   "execution_count": 5,
   "metadata": {},
   "outputs": [
    {
     "ename": "NameError",
     "evalue": "name 'df' is not defined",
     "output_type": "error",
     "traceback": [
      "\u001b[1;31m---------------------------------------------------------------------------\u001b[0m",
      "\u001b[1;31mNameError\u001b[0m                                 Traceback (most recent call last)",
      "\u001b[1;32m<ipython-input-5-0da36ce6fcaf>\u001b[0m in \u001b[0;36m<module>\u001b[1;34m\u001b[0m\n\u001b[1;32m----> 1\u001b[1;33m \u001b[0mdf\u001b[0m \u001b[1;33m=\u001b[0m \u001b[0mdf\u001b[0m\u001b[1;33m.\u001b[0m\u001b[0mdropna\u001b[0m\u001b[1;33m(\u001b[0m\u001b[1;36m1\u001b[0m\u001b[1;33m)\u001b[0m\u001b[1;33m\u001b[0m\u001b[1;33m\u001b[0m\u001b[0m\n\u001b[0m\u001b[0;32m      2\u001b[0m \u001b[0mdata\u001b[0m \u001b[1;33m=\u001b[0m \u001b[0mdf\u001b[0m\u001b[1;33m.\u001b[0m\u001b[0mvalues\u001b[0m\u001b[1;33m\u001b[0m\u001b[1;33m\u001b[0m\u001b[0m\n\u001b[0;32m      3\u001b[0m \u001b[1;33m\u001b[0m\u001b[0m\n\u001b[0;32m      4\u001b[0m \u001b[0mnewdata\u001b[0m\u001b[1;33m=\u001b[0m\u001b[1;33m[\u001b[0m\u001b[1;33m]\u001b[0m\u001b[1;33m\u001b[0m\u001b[1;33m\u001b[0m\u001b[0m\n\u001b[0;32m      5\u001b[0m \u001b[0mminy\u001b[0m\u001b[1;33m=\u001b[0m\u001b[1;33m+\u001b[0m\u001b[0mnp\u001b[0m\u001b[1;33m.\u001b[0m\u001b[0minf\u001b[0m\u001b[1;33m\u001b[0m\u001b[1;33m\u001b[0m\u001b[0m\n",
      "\u001b[1;31mNameError\u001b[0m: name 'df' is not defined"
     ]
    }
   ],
   "source": [
    "df = df.dropna(1)\n",
    "data = df.values\n",
    "\n",
    "newdata=[]\n",
    "miny=+np.inf\n",
    "maxy=-np.inf\n",
    "for i in range(0,data.shape[1]-1,2):\n",
    "    x = i/2*dist\n",
    "    z = data[:,[1+i]].reshape(1,-1)[0]\n",
    "    y = data[:,[0+i]].reshape(1,-1)[0]\n",
    "    miny=min(miny,y.min())\n",
    "    maxy=max(maxy,y.max())\n",
    "    \n",
    "    for j in range(len(z)):\n",
    "        newdata.append((x,y[j],z[j]))"
   ]
  },
  {
   "cell_type": "code",
   "execution_count": null,
   "metadata": {},
   "outputs": [],
   "source": [
    "def plot_xyz(xyz,res=1):\n",
    "    xyz = np.array(xyz)\n",
    "\n",
    "    max_values = np.amax(xyz,axis=0)\n",
    "    min_values = np.amin(xyz,axis=0)\n",
    "    xy_size = max_values-min_values\n",
    "    xy_size_norm = xy_size/xy_size.max()\n",
    "    \n",
    "    X,Y = np.meshgrid(\n",
    "        np.linspace(min_values[0],max_values[0], int(xy_size[0]/res)),\n",
    "        np.linspace(min_values[1],max_values[1], int(xy_size[1]/res))\n",
    "    )\n",
    "    Z = interpolate.griddata((xyz[:,0], xyz[:,1]), xyz[:,2], (X,Y), method=interpolation_method)\n",
    "    return X,Y,Z\n",
    "\n",
    "X,Y,Z=plot_xyz(newdata[:],res=target_resolution)\n",
    "\n",
    "mask = np.all(np.isnan(Z), axis=1)\n",
    "X=X[~mask]\n",
    "Y=Y[~mask]\n",
    "Z=Z[~mask]\n",
    "mask = np.all(np.isnan(Z), axis=0)\n",
    "X=X[~mask]\n",
    "Y=Y[~mask]\n",
    "Z=Z[~mask]"
   ]
  },
  {
   "cell_type": "code",
   "execution_count": null,
   "metadata": {},
   "outputs": [],
   "source": [
    "def get_flat(xyz_array,show=True):\n",
    "    # create random data\n",
    "    xs = xyz_array[:,0]\n",
    "    ys = xyz_array[:,1]\n",
    "    zs = xyz_array[:,2]\n",
    "\n",
    "\n",
    "    # do fit\n",
    "    tmp_A = []\n",
    "    tmp_b = []\n",
    "    for i in range(len(xs)):\n",
    "        tmp_A.append([xs[i], ys[i], 1])\n",
    "        tmp_b.append(zs[i])\n",
    "    b = np.matrix(tmp_b).T\n",
    "    A = np.matrix(tmp_A)\n",
    "    fit = (A.T * A).I * A.T * b\n",
    "    errors = b - A * fit\n",
    "    residual = np.linalg.norm(errors)\n",
    "    \n",
    "    fit = fit.A1\n",
    "    if not show:\n",
    "        return(fit[0], fit[1], fit[2])\n",
    "   \n",
    "    # plot raw data\n",
    "    plt.figure()\n",
    "    ax = plt.subplot(111, projection='3d')\n",
    "    ax.scatter(xs, ys, zs, color='b')\n",
    "\n",
    "    # plot plane\n",
    "    xlim = ax.get_xlim()\n",
    "    ylim = ax.get_ylim()\n",
    "    Xf,Yf = np.meshgrid(np.arange(xlim[0], xlim[1]),\n",
    "                      np.arange(ylim[0], ylim[1]))\n",
    "    Zf = np.zeros(Xf.shape)\n",
    "    for r in range(Xf.shape[0]):\n",
    "        for c in range(Xf.shape[1]):\n",
    "            Zf[r,c] = fit[0] * Xf[r,c] + fit[1] * Yf[r,c] + fit[2]\n",
    "    ax.plot_wireframe(Xf,Yf,Zf, color='k')\n",
    "\n",
    "    ax.set_xlabel('x')\n",
    "    ax.set_ylabel('y')\n",
    "    ax.set_zlabel('z')\n",
    "    plt.show()\n",
    "    return(fit[0], fit[1], fit[2])\n",
    "\n",
    "    \n",
    "\n",
    "def cornermean(a,d=4):\n",
    "    return (np.nanmean(a[-d:,0:d]),np.nanmean(a[-d:,-d:]),\n",
    "          np.nanmean(a[:d,:d]),np.nanmean(a[:d,-d:]))\n",
    "\n",
    "\n",
    "def flat_data(X,Y,Z,points=np.array(cornermean(X,2)+cornermean(Y,2)+cornermean(Z,2)).reshape(3,4).transpose(),withPlane=True):\n",
    "    xf,yf,cf = get_flat(cornerpoints,False)\n",
    "    planeY=X*xf+Y*yf+cf\n",
    "    Zn=Z-planeY\n",
    "    return Zn,planeY\n",
    "\n",
    "def remove_baseplaine(z,nerror=2,mean=None,std=None,std_error=None,val=np.nan):\n",
    "    if mean is None:\n",
    "        mean=np.nanmean(z)\n",
    "    if std is None:\n",
    "        std=np.nanstd(z)\n",
    "    if std_error is None:\n",
    "        std_error=std/np.sqrt(len(z))\n",
    "#    print(mean,std,std_error,vari)\n",
    "    nZ=np.copy(z)\n",
    "    nZ[((nZ<mean+nerror*std_error)&(nZ>mean-nerror*std_error))]=val\n",
    "    return nZ\n",
    "\n",
    "cornerpoints=np.array(cornermean(X,cornerread)+cornermean(Y,cornerread)+cornermean(Z,cornerread)).reshape(3,4).transpose()\n",
    "nZ,planeY = flat_data(X,Y,Z,cornerpoints)\n",
    "nZ2 = remove_baseplaine(nZ,nerror=3,mean=0,val=0)"
   ]
  },
  {
   "cell_type": "code",
   "execution_count": null,
   "metadata": {},
   "outputs": [],
   "source": [
    "%matplotlib inline\n",
    "# set the colormap and centre the colorbar\n",
    "import matplotlib.colors as colors\n",
    "class MidpointNormalize(colors.Normalize):\n",
    "    def __init__(self, vmin=None, vmax=None, midpoint=None, clip=False):\n",
    "        self.midpoint = midpoint\n",
    "        colors.Normalize.__init__(self, vmin, vmax, clip)\n",
    "\n",
    "    def __call__(self, value, clip=None):\n",
    "        x, y = [self.vmin, self.midpoint, self.vmax], [0, 0.5, 1]\n",
    "        return np.ma.masked_array(np.interp(value, x, y), np.isnan(value))\n",
    "\n",
    "cmap=\"RdYlGn\"    \n",
    "print(\"raw\")\n",
    "fig = plt.figure(figsize=xy_size_norm[:-1]*20)\n",
    "plt.pcolormesh(X,Y,Z,cmap=cmap,norm=MidpointNormalize(midpoint=np.nanmean(Z),vmin=np.nanmin(Z), vmax=np.nanmax(Z)))\n",
    "plt.colorbar(),plt.show()\n",
    "print(\"baseplane\")\n",
    "fig = plt.figure(figsize=xy_size_norm[:-1]*20)\n",
    "plt.pcolormesh(X,Y,planeY,cmap=cmap,norm=MidpointNormalize(midpoint=np.nanmean(planeY),vmin=np.nanmin(planeY), vmax=np.nanmax(planeY)))\n",
    "plt.colorbar(),plt.show()\n",
    "print(\"baseplane substarcted\")\n",
    "fig = plt.figure(figsize=xy_size_norm[:-1]*20)\n",
    "plt.pcolormesh(X,Y,nZ,\n",
    "               cmap=cmap,\n",
    "               norm=MidpointNormalize(midpoint=0,vmin=np.nanmin(nZ), vmax=np.nanmax(nZ)))\n",
    "plt.colorbar(),plt.show()\n",
    "print(\"baseplane extracted\")\n",
    "fig = plt.figure(figsize=xy_size_norm[:-1]*20)\n",
    "plt.pcolormesh(X,Y,nZ2,\n",
    "               cmap=cmap,\n",
    "               norm=MidpointNormalize(midpoint=0,vmin=np.nanmin(nZ2), vmax=np.nanmax(nZ2)))\n",
    "plt.colorbar(),plt.show()\n"
   ]
  },
  {
   "cell_type": "code",
   "execution_count": null,
   "metadata": {},
   "outputs": [],
   "source": []
  },
  {
   "cell_type": "code",
   "execution_count": null,
   "metadata": {},
   "outputs": [],
   "source": []
  },
  {
   "cell_type": "code",
   "execution_count": null,
   "metadata": {},
   "outputs": [],
   "source": [
    "print(1)"
   ]
  },
  {
   "cell_type": "code",
   "execution_count": null,
   "metadata": {},
   "outputs": [],
   "source": [
    "%matplotlib inline\n",
    "from matplotlib import cm\n",
    "i=1\n",
    "def plotsurface(X,Y,Z,a=45,b=-45,title=\"fig\",save=False, figsize=(4,4),evenscaled=False,dpi=100):\n",
    "    global i\n",
    "    Z=np.nan_to_num(Z,True)\n",
    "    fig = plt.figure(figsize=figsize,dpi=dpi)\n",
    "    \n",
    "    ax = plt.axes(projection='3d')\n",
    "    #plt.axis('equal')\n",
    "    #plt.axis([np.nanmin(X),np.nanmax(X)*2, np.nanmin(Y),np.nanmax(Y)*2])\n",
    "    ax.view_init(a, b)\n",
    "#    ax.axis('equal')\n",
    "    my_col = cm.jet(Z/np.amax(Z))\n",
    "    \n",
    "    surf = ax.plot_surface(X, Y, Z, rstride=5, cstride=5, cmap = \"RdYlGn\",norm=MidpointNormalize(midpoint=0,vmin=np.nanmin(Z), vmax=np.nanmax(Z)),\n",
    "                           linewidth=0, antialiased=False)\n",
    "    fig.colorbar(surf, shrink=0.5, aspect=5)\n",
    "\n",
    "    if evenscaled:\n",
    "        max_range = np.array([X.max()-X.min(), Y.max()-Y.min(), Z.max()-Z.min()]).max()\n",
    "        Xb = 0.5*max_range*np.mgrid[-1:2:2,-1:2:2,-1:2:2][0].flatten() + 0.5*(X.max()+X.min())\n",
    "        Yb = 0.5*max_range*np.mgrid[-1:2:2,-1:2:2,-1:2:2][1].flatten() + 0.5*(Y.max()+Y.min())\n",
    "        Zb = 0.5*max_range*np.mgrid[-1:2:2,-1:2:2,-1:2:2][2].flatten() + 0.5*(Z.max()+Z.min())\n",
    "        # Comment or uncomment following both lines to test the fake bounding box:\n",
    "        for xb, yb, zb in zip(Xb, Yb, Zb):\n",
    "            ax.plot([xb], [yb], [zb], 'w')\n",
    "\n",
    "    if save:\n",
    "        fig.savefig('title_'+str(i))\n",
    "        i += 1\n",
    "    fig.show()\n",
    "\n",
    "\n",
    "plotsurface(X,Y,nZ2,45,-30,dpi=2000,evenscaled=True,save=True)\n",
    "plotsurface(X,Y,nZ2,45,-30,dpi=1000,save=True)\n",
    "#plotsurface(45,-10,)\n",
    "#plotsurface(45,0,)\n",
    "#plotsurface(0,90,)\n",
    "#plotsurface(65,170,)\n",
    "#plotsurface(45,-10,figsize=(4,res[0]))\n",
    "#plotsurface(45,0,figsize=(4,res[0]))\n",
    "#plotsurface(0,90,figsize=res)\n",
    "#plotsurface(65,170,figsize=(4,res[0]))"
   ]
  },
  {
   "cell_type": "code",
   "execution_count": null,
   "metadata": {},
   "outputs": [],
   "source": []
  },
  {
   "cell_type": "code",
   "execution_count": null,
   "metadata": {},
   "outputs": [],
   "source": []
  },
  {
   "cell_type": "code",
   "execution_count": 30,
   "metadata": {},
   "outputs": [
    {
     "data": {
      "text/plain": [
       "array([[0, 0, 0, 0],\n",
       "       [1, 1, 1, 1]])"
      ]
     },
     "execution_count": 30,
     "metadata": {},
     "output_type": "execute_result"
    }
   ],
   "source": [
    "\n",
    "x=np.array([0,1,2,3])\n",
    "y=np.array([0,1])\n",
    "Z=np.array([[0,0,0,0],[0,0,0,0]])\n",
    "np.repeat(x,Z.shape[0]).reshape(Z.shape[1],Z.shape[0]).transpose()\n",
    "np.repeat(y,Z.shape[1]).reshape(Z.shape)"
   ]
  },
  {
   "cell_type": "code",
   "execution_count": 82,
   "metadata": {},
   "outputs": [
    {
     "data": {
      "text/plain": [
       "(1, 1, 12, 15, -1.0)"
      ]
     },
     "execution_count": 82,
     "metadata": {},
     "output_type": "execute_result"
    }
   ],
   "source": [
    "a = np.zeros((15,11))\n",
    "a[1][1]=-1\n",
    "a[0][2]=2\n",
    "a[2][0]=3\n",
    "a\n",
    "amin = np.argmin(a)\n",
    "y = amin%a.shape[1]\n",
    "x = int((amin-y)/a.shape[1])\n",
    "x,y,amin,y*a.shape[0],a[x][y]"
   ]
  },
  {
   "cell_type": "code",
   "execution_count": 72,
   "metadata": {},
   "outputs": [
    {
     "data": {
      "text/plain": [
       "array([ 0.,  0.,  2.,  0.,  0.,  0.,  0.,  0.,  0.,  0.,  0.,  0.,  0.,\n",
       "        0.,  0.,  0.,  0.,  0.,  0.,  0.,  0.,  0.,  3.,  0.,  0.,  0.,\n",
       "        0.,  0.,  0.,  0.,  0.,  0.,  0.,  0.,  0.,  0.,  0.,  0.,  0.,\n",
       "        0.,  0.,  0.,  0.,  0.,  0.,  0.,  0.,  0.,  0.,  0.,  0.,  0.,\n",
       "        0.,  0.,  0.,  0.,  0.,  0.,  0.,  0.,  0.,  0.,  0.,  0.,  0.,\n",
       "        0.,  0.,  0.,  0.,  0.,  0.,  0.,  0.,  0.,  0.,  0.,  0.,  0.,\n",
       "        0.,  0.,  0.,  0.,  0.,  0.,  0.,  0.,  0.,  0.,  0.,  0.,  0.,\n",
       "        0.,  0.,  0.,  0.,  0.,  0., -1.,  0.,  0.,  0.,  0.,  0.,  0.,\n",
       "        0.,  0.,  0.,  0.,  0.,  0.,  0.,  0.,  0.,  0.,  0.,  0.,  0.,\n",
       "        0.,  0.,  0.,  0.,  0.,  0.,  0.,  0.,  0.,  0.,  0.,  0.,  0.,\n",
       "        0.,  0.,  0.,  0.,  0.,  0.,  0.,  0.,  0.,  0.,  0.,  0.,  0.,\n",
       "        0.,  0.,  0.,  0.,  0.,  0.,  0.,  0.,  0.,  0.,  0.,  0.,  0.,\n",
       "        0.,  0.,  0.,  0.,  0.,  0.,  0.,  0.,  0.])"
      ]
     },
     "execution_count": 72,
     "metadata": {},
     "output_type": "execute_result"
    }
   ],
   "source": [
    "a.flatten()"
   ]
  },
  {
   "cell_type": "code",
   "execution_count": 73,
   "metadata": {},
   "outputs": [
    {
     "data": {
      "text/plain": [
       "array([[ 0.,  0.,  2.,  0.,  0.,  0.,  0.,  0.,  0.,  0.,  0.],\n",
       "       [ 0.,  0.,  0.,  0.,  0.,  0.,  0.,  0.,  0.,  0.,  0.],\n",
       "       [ 3.,  0.,  0.,  0.,  0.,  0.,  0.,  0.,  0.,  0.,  0.],\n",
       "       [ 0.,  0.,  0.,  0.,  0.,  0.,  0.,  0.,  0.,  0.,  0.],\n",
       "       [ 0.,  0.,  0.,  0.,  0.,  0.,  0.,  0.,  0.,  0.,  0.],\n",
       "       [ 0.,  0.,  0.,  0.,  0.,  0.,  0.,  0.,  0.,  0.,  0.],\n",
       "       [ 0.,  0.,  0.,  0.,  0.,  0.,  0.,  0.,  0.,  0.,  0.],\n",
       "       [ 0.,  0.,  0.,  0.,  0.,  0.,  0.,  0.,  0.,  0.,  0.],\n",
       "       [ 0.,  0.,  0.,  0.,  0.,  0.,  0.,  0.,  0., -1.,  0.],\n",
       "       [ 0.,  0.,  0.,  0.,  0.,  0.,  0.,  0.,  0.,  0.,  0.],\n",
       "       [ 0.,  0.,  0.,  0.,  0.,  0.,  0.,  0.,  0.,  0.,  0.],\n",
       "       [ 0.,  0.,  0.,  0.,  0.,  0.,  0.,  0.,  0.,  0.,  0.],\n",
       "       [ 0.,  0.,  0.,  0.,  0.,  0.,  0.,  0.,  0.,  0.,  0.],\n",
       "       [ 0.,  0.,  0.,  0.,  0.,  0.,  0.,  0.,  0.,  0.,  0.],\n",
       "       [ 0.,  0.,  0.,  0.,  0.,  0.,  0.,  0.,  0.,  0.,  0.]])"
      ]
     },
     "execution_count": 73,
     "metadata": {},
     "output_type": "execute_result"
    }
   ],
   "source": [
    "a"
   ]
  },
  {
   "cell_type": "code",
   "execution_count": null,
   "metadata": {},
   "outputs": [],
   "source": []
  }
 ],
 "metadata": {
  "kernelspec": {
   "display_name": "Python 3",
   "language": "python",
   "name": "python3"
  },
  "language_info": {
   "codemirror_mode": {
    "name": "ipython",
    "version": 3
   },
   "file_extension": ".py",
   "mimetype": "text/x-python",
   "name": "python",
   "nbconvert_exporter": "python",
   "pygments_lexer": "ipython3",
   "version": "3.7.1"
  }
 },
 "nbformat": 4,
 "nbformat_minor": 2
}
